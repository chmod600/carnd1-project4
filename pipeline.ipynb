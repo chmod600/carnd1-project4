{
 "cells": [
  {
   "cell_type": "markdown",
   "metadata": {
    "deletable": true,
    "editable": true
   },
   "source": [
    "## Advanced Lane Finding Project\n",
    "\n",
    "The goals / steps of this project are the following:\n",
    "\n",
    "* Compute the camera calibration matrix and distortion coefficients given a set of chessboard images.\n",
    "* Apply a distortion correction to raw images.\n",
    "* Use color transforms, gradients, etc., to create a thresholded binary image.\n",
    "* Apply a perspective transform to rectify binary image (\"birds-eye view\").\n",
    "* Detect lane pixels and fit to find the lane boundary.\n",
    "* Determine the curvature of the lane and vehicle position with respect to center.\n",
    "* Warp the detected lane boundaries back onto the original image.\n",
    "* Output visual display of the lane boundaries and numerical estimation of lane curvature and vehicle position.\n",
    "\n",
    "---\n",
    "## First, I'll compute the camera calibration using chessboard images"
   ]
  },
  {
   "cell_type": "code",
   "execution_count": 50,
   "metadata": {
    "collapsed": false,
    "deletable": true,
    "editable": true
   },
   "outputs": [],
   "source": [
    "# Pipeline for Project 4 - Car ND - Advanced Lane detection\n",
    "\n",
    "# Advanced Lane Finding Project\n",
    "# The goals / steps of this project are the following:\n",
    "# Compute the camera calibration matrix and distortion coefficients given a set of chessboard images.\n",
    "# Apply a distortion correction to raw images.\n",
    "# Use color transforms, gradients, etc., to create a thresholded binary image.\n",
    "# Apply a perspective transform to rectify binary image (\"birds-eye view\").\n",
    "# Detect lane pixels and fit to find the lane boundary.\n",
    "# Determine the curvature of the lane and vehicle position with respect to center.\n",
    "# Warp the detected lane boundaries back onto the original image.\n",
    "# Output visual display of the lane boundaries and numerical estimation of lane curvature and vehicle position.\n",
    "\n",
    "import numpy as np\n",
    "import cv2\n",
    "import matplotlib.pyplot as plt\n",
    "import matplotlib.image as mpimg\n",
    "import glob\n",
    "%matplotlib inline\n",
    "\n",
    "# Chessboard Dimensions\n",
    "nx = 9\n",
    "ny = 6"
   ]
  },
  {
   "cell_type": "code",
   "execution_count": 51,
   "metadata": {
    "collapsed": true
   },
   "outputs": [],
   "source": [
    "# Method for printing images\n",
    "def print_image(img):\n",
    "    plt.figure(figsize=(5, 5))\n",
    "    plt.imshow(img)"
   ]
  },
  {
   "cell_type": "code",
   "execution_count": 58,
   "metadata": {
    "collapsed": false
   },
   "outputs": [],
   "source": [
    "calibration_path = '/Users/Akshay/projects/carnd/CarND-Advanced-Lane-Lines/camera_cal/calibration*.jpg'\n",
    "test_image = '/Users/Akshay/projects/carnd/CarND-Advanced-Lane-Lines/camera_cal/test_image.jpg'\n",
    "test_image = mpimg.imread(test_image)\n",
    "calibration_images = glob.glob(calibration_path)\n",
    "\n",
    "# Store Image Points and Object points for image\n",
    "image_points = []\n",
    "object_points = []\n",
    "\n",
    "obj_points = np.zeros((nx * ny, 3), np.float32)\n",
    "obj_points[:, :2] = np.mgrid[0:nx, 0:ny].T.reshape(-1, 2)\n",
    "\n",
    "for img_name in calibration_images:\n",
    "    # read in each image\n",
    "    img = mpimg.imread(img_name)\n",
    "    gray = cv2.cvtColor(img, cv2.COLOR_RGB2GRAY)\n",
    "    ret, corners = cv2.findChessboardCorners(gray, (nx, ny), None)\n",
    "    \n",
    "    if ret == True:\n",
    "        image_points.append(corners)\n",
    "        object_points.append(obj_points)\n",
    "\n",
    "def undistort(image, image_points, object_points):\n",
    "    gray = cv2.cvtColor(img, cv2.COLOR_RGB2GRAY)\n",
    "    ret, corners = cv2.findChessboardCorners(gray, (nx, ny), None)\n",
    "    img = cv2.drawChessboardCorners(img, gray.shape, corners, ret)\n",
    "    ret, mtx, dist, rvecs, tvecs = cv2.calibrateCamera(objpoints, imgpoints, gray.shape[::-1], None, None)\n",
    "    undist = cv2.undistort(img, mtx, dist, None, mtx)\n",
    "    return undist\n",
    "    \n",
    "    \n",
    "    \n",
    "    \n",
    "    \n",
    "    "
   ]
  },
  {
   "cell_type": "markdown",
   "metadata": {
    "deletable": true,
    "editable": true
   },
   "source": [
    "## And so on and so forth..."
   ]
  },
  {
   "cell_type": "code",
   "execution_count": null,
   "metadata": {
    "collapsed": true,
    "deletable": true,
    "editable": true
   },
   "outputs": [],
   "source": []
  }
 ],
 "metadata": {
  "anaconda-cloud": {},
  "kernelspec": {
   "display_name": "Python 3",
   "language": "python",
   "name": "python3"
  },
  "language_info": {
   "codemirror_mode": {
    "name": "ipython",
    "version": 3
   },
   "file_extension": ".py",
   "mimetype": "text/x-python",
   "name": "python",
   "nbconvert_exporter": "python",
   "pygments_lexer": "ipython3",
   "version": "3.5.2"
  },
  "widgets": {
   "state": {},
   "version": "1.1.2"
  }
 },
 "nbformat": 4,
 "nbformat_minor": 1
}
